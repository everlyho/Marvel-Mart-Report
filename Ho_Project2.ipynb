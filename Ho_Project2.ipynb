{
 "cells": [
  {
   "cell_type": "raw",
   "metadata": {},
   "source": [
    "Python Project - Marvel Mart Project\n",
    "Everly Ho\n",
    "March 11, 2021"
   ]
  },
  {
   "cell_type": "markdown",
   "metadata": {},
   "source": [
    "# Part 1: Cleaning the data"
   ]
  },
  {
   "cell_type": "code",
   "execution_count": 575,
   "metadata": {},
   "outputs": [],
   "source": [
    "# Use to suppress Pandas Future warnings happen in below code.\n",
    "\n",
    "import warnings\n",
    "warnings.simplefilter(action='ignore', category=FutureWarning)"
   ]
  },
  {
   "cell_type": "code",
   "execution_count": 576,
   "metadata": {},
   "outputs": [],
   "source": [
    "# import essential libraries\n",
    "\n",
    "# numpy and pandas for functions\n",
    "import numpy as np\n",
    "import pandas as pd\n",
    "from pandas import DataFrame, Series\n",
    "\n",
    "#import matplotlib for graphs\n",
    "import matplotlib.pyplot as plt\n",
    "\n",
    "# import seaborn and set style for seaborn graphs\n",
    "import seaborn as sns\n",
    "sns.set(style='ticks', palette ='Set3')\n",
    "\n",
    "# set the decimal places to only 3\n",
    "pd.set_option('display.float_format', lambda x: '%.3f' % x)"
   ]
  },
  {
   "cell_type": "code",
   "execution_count": 577,
   "metadata": {},
   "outputs": [
    {
     "name": "stdout",
     "output_type": "stream",
     "text": [
      "(50000, 14)\n",
      "Region            50000\n",
      "Country           50000\n",
      "Item Type         49994\n",
      "Sales Channel     50000\n",
      "Order Priority    49985\n",
      "Order Date        50000\n",
      "Order ID          50000\n",
      "Ship Date         50000\n",
      "Units Sold        50000\n",
      "Unit Price        50000\n",
      "Unit Cost         50000\n",
      "Total Revenue     50000\n",
      "Total Cost        50000\n",
      "Total Profit      50000\n",
      "dtype: int64\n",
      "Region             object\n",
      "Country            object\n",
      "Item Type          object\n",
      "Sales Channel      object\n",
      "Order Priority     object\n",
      "Order Date         object\n",
      "Order ID           object\n",
      "Ship Date          object\n",
      "Units Sold          int64\n",
      "Unit Price        float64\n",
      "Unit Cost         float64\n",
      "Total Revenue     float64\n",
      "Total Cost        float64\n",
      "Total Profit      float64\n",
      "dtype: object\n",
      "Region             0\n",
      "Country            0\n",
      "Item Type         -6\n",
      "Sales Channel      0\n",
      "Order Priority   -15\n",
      "Order Date         0\n",
      "Order ID           0\n",
      "Ship Date          0\n",
      "Units Sold         0\n",
      "Unit Price         0\n",
      "Unit Cost          0\n",
      "Total Revenue      0\n",
      "Total Cost         0\n",
      "Total Profit       0\n",
      "dtype: int64\n"
     ]
    }
   ],
   "source": [
    "# read the csv file\n",
    "mmSales = pd.read_csv('DataSample/MM_Sales.csv')\n",
    "\n",
    "# get the csv file information such as shape, count the rows of each columns, types of columns \n",
    "# and the differences of Null cells\n",
    "print(mmSales.shape)\n",
    "print(mmSales.count())\n",
    "print(mmSales.dtypes)\n",
    "print(mmSales.count()-mmSales.shape[0])"
   ]
  },
  {
   "cell_type": "markdown",
   "metadata": {},
   "source": [
    "For data cleaning portion, I decided I would try a different approach than the one shown in class. I did some research only and found out a pandas operation called replace and used it. The results were more than I expected. It first occured some errors, but after revising, I managed to pull it to the correct results. Here are the process"
   ]
  },
  {
   "cell_type": "code",
   "execution_count": 578,
   "metadata": {},
   "outputs": [],
   "source": [
    "# create a copy of the sales to work on\n",
    "salesClean = mmSales.copy()"
   ]
  },
  {
   "cell_type": "code",
   "execution_count": 579,
   "metadata": {},
   "outputs": [],
   "source": [
    "# First step:\n",
    "\n",
    "# Replace empty value by NaN, follow the format \"df.replace(to_replace, value, inplace)\".\n",
    "# inplace is default false, but in this case, it's true to return the caller\n",
    "salesClean[\"Country\"].replace('', np.nan, inplace=True)\n",
    "salesClean[\"Item Type\"].replace('', np.nan, inplace=True)\n",
    "salesClean[\"Order Priority\"].replace('', np.nan, inplace=True)\n",
    "salesClean[\"Order ID\"].replace('', np.nan, inplace=True)"
   ]
  },
  {
   "cell_type": "code",
   "execution_count": 580,
   "metadata": {},
   "outputs": [
    {
     "name": "stdout",
     "output_type": "stream",
     "text": [
      "Region            49979\n",
      "Country           49979\n",
      "Item Type         49979\n",
      "Sales Channel     49979\n",
      "Order Priority    49979\n",
      "Order Date        49979\n",
      "Order ID          49979\n",
      "Ship Date         49979\n",
      "Units Sold        49979\n",
      "Unit Price        49979\n",
      "Unit Cost         49979\n",
      "Total Revenue     49979\n",
      "Total Cost        49979\n",
      "Total Profit      49979\n",
      "dtype: int64\n"
     ]
    }
   ],
   "source": [
    "# Second step:\n",
    "\n",
    "# Use dropna pd function to drop NaN values from data\n",
    "# dropna function follows the format \"df.dropna(subset, inplace)\"\n",
    "# subset to be our columns that need revised and inplace true to run the operation and returns None\n",
    "salesClean.dropna(subset=['Country'], inplace=True)\n",
    "salesClean.dropna(subset=['Item Type'], inplace=True)\n",
    "salesClean.dropna(subset=['Order Priority'], inplace=True)\n",
    "salesClean.dropna(subset=['Order ID'], inplace=True)\n",
    "\n",
    "# print out the new count of rows from each columns to see how many nan rows have been omitted\n",
    "print(salesClean.count())"
   ]
  },
  {
   "cell_type": "code",
   "execution_count": 491,
   "metadata": {},
   "outputs": [],
   "source": [
    "# Third step:\n",
    "# After dropping all the nan values, I continue with third part of the requirements.\n",
    "\n",
    "# Use pandas.to_numeric function to convert the column to numeric type\n",
    "# notnull used to check if it's a number. If it is, it's TRUE. If it's not, it's FALSE. \n",
    "# variables name is as it's meanings.\n",
    "isCountryNotNumber = pd.to_numeric(salesClean[\"Country\"], errors='coerce').notnull()\n",
    "isItemTypeNotNumber = pd.to_numeric(salesClean[\"Item Type\"], errors='coerce').notnull()\n",
    "isOrderIdNotNumber = pd.to_numeric(salesClean[\"Order ID\"], errors='coerce').notnull()"
   ]
  },
  {
   "cell_type": "code",
   "execution_count": 495,
   "metadata": {},
   "outputs": [
    {
     "name": "stdout",
     "output_type": "stream",
     "text": [
      "Region            49971\n",
      "Country           49971\n",
      "Item Type         49971\n",
      "Sales Channel     49971\n",
      "Order Priority    49971\n",
      "Order Date        49971\n",
      "Order ID          49971\n",
      "Ship Date         49971\n",
      "Units Sold        49971\n",
      "Unit Price        49971\n",
      "Unit Cost         49971\n",
      "Total Revenue     49971\n",
      "Total Cost        49971\n",
      "Total Profit      49971\n",
      "dtype: int64\n"
     ]
    },
    {
     "name": "stderr",
     "output_type": "stream",
     "text": [
      "<ipython-input-495-d9c565eb83f3>:4: UserWarning: Boolean Series key will be reindexed to match DataFrame index.\n",
      "  salesClean = salesClean[~(isCountryNotNumber)]\n",
      "<ipython-input-495-d9c565eb83f3>:5: UserWarning: Boolean Series key will be reindexed to match DataFrame index.\n",
      "  salesClean = salesClean[~(isItemTypeNotNumber)]\n",
      "<ipython-input-495-d9c565eb83f3>:6: UserWarning: Boolean Series key will be reindexed to match DataFrame index.\n",
      "  salesClean = salesClean[isOrderIdNotNumber]\n"
     ]
    }
   ],
   "source": [
    "# Fourth step:\n",
    "\n",
    "# Use binary operators '~':\n",
    "# First 2 rows, taking only strings, not number.\n",
    "# Last row, taking only number, not string.\n",
    "salesClean = salesClean[~(isCountryNotNumber)]\n",
    "salesClean = salesClean[~(isItemTypeNotNumber)]\n",
    "salesClean = salesClean[isOrderIdNotNumber]\n",
    "\n",
    "# Use binary operator '|' means or\n",
    "# Only column order priority need filter left, so if it has C,H, M, L, we take that row.\n",
    "salesClean = salesClean[(salesClean[\"Order Priority\"] == 'C') | \n",
    "                              (salesClean[\"Order Priority\"] == 'H') | \n",
    "                              (salesClean[\"Order Priority\"] == 'M') | \n",
    "                              (salesClean[\"Order Priority\"] == 'L')]\n",
    "\n",
    "print(salesClean.count())"
   ]
  },
  {
   "cell_type": "code",
   "execution_count": 496,
   "metadata": {},
   "outputs": [],
   "source": [
    "# Put new data into a new csv file, we'll work on this file from now.\n",
    "# Excluded index by using index=False\n",
    "\n",
    "salesClean.to_csv('DataSample/MM_Sales_clean.csv', index=False)"
   ]
  },
  {
   "cell_type": "markdown",
   "metadata": {},
   "source": [
    "# Part 2: Exploratory Data Analysis with Reports & Visualizations"
   ]
  },
  {
   "cell_type": "markdown",
   "metadata": {},
   "source": [
    "## Question 1"
   ]
  },
  {
   "cell_type": "code",
   "execution_count": 497,
   "metadata": {},
   "outputs": [
    {
     "name": "stdout",
     "output_type": "stream",
     "text": [
      "                                  Order ID\n",
      "Country                                   \n",
      "Trinidad and Tobago                    321\n",
      "Guinea                                 318\n",
      "Cape Verde                             314\n",
      "Maldives                               311\n",
      "Finland                                310\n",
      "Democratic Republic of the Congo       308\n",
      "Samoa                                  306\n",
      "Malta                                  305\n",
      "China                                  303\n",
      "South Sudan                            302\n"
     ]
    }
   ],
   "source": [
    "# Rank the Top 10 countries we sell to the most to least along with the number of sales we've had with that country\n",
    "\n",
    "# Read the MMSalesClean csv file as a dataframe\n",
    "mmSalesDF = pd.read_csv('DataSample/MM_Sales_clean.csv')\n",
    "\n",
    "# Use group by function to group all the country together and count the rows of each country using count() function on Order ID column.\n",
    "# After that, use the nlargest() function to sort the list into descending order and take only top 10 countries\n",
    "# with highest number of sales.\n",
    "mostSoldCount = mmSalesDF.groupby('Country').count()[['Order ID']].nlargest(10,'Order ID')\n",
    "print(mostSoldCount)"
   ]
  },
  {
   "cell_type": "code",
   "execution_count": 478,
   "metadata": {},
   "outputs": [
    {
     "name": "stdout",
     "output_type": "stream",
     "text": [
      "                             Country  Number of Sales\n",
      "0               Trinidad and Tobago               321\n",
      "1                             Guinea              318\n",
      "2                         Cape Verde              314\n",
      "3                           Maldives              311\n",
      "4                            Finland              310\n",
      "5  Democratic Republic of the Congo               308\n",
      "6                              Samoa              306\n",
      "7                              Malta              305\n",
      "8                              China              303\n",
      "9                        South Sudan              302\n"
     ]
    }
   ],
   "source": [
    "# Create the dataframe from the result of top 10 countries of sales above using pandas\n",
    "# with 2 columns: Country and Number of Sales\n",
    "\n",
    "top10DF = pd.DataFrame([['Trinidad and Tobago ',321], \n",
    "                        ['Guinea',318], \n",
    "                        ['Cape Verde',314], \n",
    "                        ['Maldives',311], \n",
    "                        ['Finland',310],\n",
    "                        ['Democratic Republic of the Congo ',308],\n",
    "                        ['Samoa',306],['Malta',305],['China',303],\n",
    "                        ['South Sudan',302]], columns=['Country', 'Number of Sales'])\n",
    "print(top10DF)"
   ]
  },
  {
   "cell_type": "markdown",
   "metadata": {},
   "source": [
    "### Question 1 - 1"
   ]
  },
  {
   "cell_type": "code",
   "execution_count": 479,
   "metadata": {},
   "outputs": [
    {
     "data": {
      "image/png": "[encoded data removed]",
      "text/plain": [
       "<Figure size 1440x360 with 1 Axes>"
      ]
     },
     "metadata": {},
     "output_type": "display_data"
    }
   ],
   "source": [
    "# Use Seaborn or Matplotlib to create a chart of your choice showing these top 10 values by country.\n",
    "\n",
    "# Plotting a bar chart graph with seaborn, having countries on x-axis and number of sales on y-axis\n",
    "plt.figure(figsize=(20,5))\n",
    "y = top10DF['Number of Sales']\n",
    "x = top10DF['Country']\n",
    "ax = sns.barplot(x, y)"
   ]
  },
  {
   "cell_type": "markdown",
   "metadata": {},
   "source": [
    "### Question 1 - 1 - 1"
   ]
  },
  {
   "cell_type": "markdown",
   "metadata": {},
   "source": [
    "Which country should we build a shipping center in based on most sales and lack of shipping center? \n",
    "    We should build a shipping center in country 'Cape Verde', because it's has the third highest number of sales but still lack of a shipping center."
   ]
  },
  {
   "cell_type": "markdown",
   "metadata": {},
   "source": [
    "### Question 1 - 2"
   ]
  },
  {
   "cell_type": "code",
   "execution_count": 450,
   "metadata": {},
   "outputs": [],
   "source": [
    "# Create a new blank txt file using with open:\n",
    "with open('DataSample/MM_Ranking.txt', \"w+\", newline='') as writer:\n",
    "    writer.write('')"
   ]
  },
  {
   "cell_type": "code",
   "execution_count": 451,
   "metadata": {},
   "outputs": [],
   "source": [
    "# Using append function to add in the first row:\n",
    "with open('DataSample/MM_Ranking.txt', \"a+\") as writer:\n",
    "    writer.write('Countries Most Sale Transaction:\\n')"
   ]
  },
  {
   "cell_type": "code",
   "execution_count": 452,
   "metadata": {},
   "outputs": [],
   "source": [
    "# Create a list with top 10 countries data. \n",
    "top10Countries = ['Trinidad and Tobago: 321','Guinea: 318','Cape Verse: 314','Maldives: 311', \n",
    "                 'Finland: 310', 'Democratic Republic of the Congo: 308', 'Samoa: 306',\n",
    "                 'Malta: 305', 'China: 303','South Sudan\": 302']\n",
    "\n",
    "# Use open() function to append new lines into the txt file\n",
    "# Use for loop to print out every lines in the list into the txt file.\n",
    "with open('DataSample/MM_Ranking.txt', \"a+\") as writer:\n",
    "    for line in top10Countries:\n",
    "        writer.write(f'{line}\\n')"
   ]
  },
  {
   "cell_type": "code",
   "execution_count": 453,
   "metadata": {},
   "outputs": [],
   "source": [
    "# Use open() function with append to write in the answer for the question:\n",
    "with open('DataSample/MM_Ranking.txt', \"a+\") as writer:\n",
    "    writer.write('We should build a shipping center in country Cape Verde, because it has the third highest number of sales but still lack of a shipping center.\\n')"
   ]
  },
  {
   "cell_type": "markdown",
   "metadata": {},
   "source": [
    "## Question 2"
   ]
  },
  {
   "cell_type": "markdown",
   "metadata": {},
   "source": [
    "### Question 2 - 1"
   ]
  },
  {
   "cell_type": "code",
   "execution_count": 454,
   "metadata": {},
   "outputs": [
    {
     "name": "stdout",
     "output_type": "stream",
     "text": [
      "               Order ID\n",
      "Sales Channel          \n",
      "Offline           19788\n",
      "Online            30183\n"
     ]
    }
   ],
   "source": [
    "# Determine the count for how many online and offline orders we take\n",
    "\n",
    "# Use groupby function to group the Sales Channel column into 2 part: Offline and Online\n",
    "# and count() function to count the rows of each part\n",
    "offOnOrders = mmSalesDF.groupby('Sales Channel').count()[['Order ID']]\n",
    "print(offOnOrders)"
   ]
  },
  {
   "cell_type": "markdown",
   "metadata": {},
   "source": [
    "### Question 2 - 2"
   ]
  },
  {
   "cell_type": "code",
   "execution_count": 456,
   "metadata": {},
   "outputs": [
    {
     "name": "stdout",
     "output_type": "stream",
     "text": [
      "                Order ID\n",
      "Order Priority          \n",
      "C                   5012\n",
      "H                  15094\n",
      "L                   9984\n",
      "M                  19881\n"
     ]
    }
   ],
   "source": [
    "# Determine the count of the different Order Priority types.\n",
    "\n",
    "# Use groupby function to group the Order Priority column into 4 part: C, H, M, L\n",
    "# and count() function to count the rows of each part\n",
    "orderPriorTypes = mmSalesDF.groupby('Order Priority').count()[['Order ID']]\n",
    "print(orderPriorTypes)"
   ]
  },
  {
   "cell_type": "markdown",
   "metadata": {},
   "source": [
    "### Question 2 - 3"
   ]
  },
  {
   "cell_type": "code",
   "execution_count": 455,
   "metadata": {},
   "outputs": [
    {
     "data": {
      "image/png": "[encoded data removed]",
      "text/plain": [
       "<Figure size 504x504 with 1 Axes>"
      ]
     },
     "metadata": {},
     "output_type": "display_data"
    }
   ],
   "source": [
    "# Create a pie chart for showing the differences in Sales Channels' values\n",
    "\n",
    "# Create 2 variables with data from the table above: \n",
    "# my_data holds counts of online and offline orders; my_labels holds the 2 categories online and offline\n",
    "my_data = [30183,19788]\n",
    "my_labels = 'Online','Offline'\n",
    "\n",
    "# Define the size\n",
    "plt.figure(figsize=(7,7))\n",
    "\n",
    "# Create the pie, autopct used to display the percent value using Python string formatting\n",
    "plt.pie(my_data,labels=my_labels,autopct='%1.1f%%')\n",
    "\n",
    "# Pie chart title\n",
    "plt.legend(loc=1,title=\"Number of Online and Online orders\")\n",
    "plt.axis('equal')\n",
    "plt.show()"
   ]
  },
  {
   "cell_type": "code",
   "execution_count": 457,
   "metadata": {},
   "outputs": [
    {
     "data": {
      "image/png": "[encoded data removed]",
      "text/plain": [
       "<Figure size 504x504 with 1 Axes>"
      ]
     },
     "metadata": {},
     "output_type": "display_data"
    }
   ],
   "source": [
    "# Create a pie chart for showing the differences in Order Priority' values\n",
    "\n",
    "# Create 2 variables with data from the table above: \n",
    "# my_data holds counts of C, H, M, L; my_labels holds the 4 categories C, H, M, L\n",
    "my_data = [5012,15094,9984,19881]\n",
    "my_labels = 'C','H','L','M'\n",
    "\n",
    "# Define the size\n",
    "plt.figure(figsize=(7,7))\n",
    "\n",
    "# Create the pie, autopct used to display the percent value using Python string formatting\n",
    "plt.pie(my_data,labels=my_labels,autopct='%1.1f%%')\n",
    "\n",
    "# Pie chart title\n",
    "plt.legend(loc=1,title=\"Order Priorities\")\n",
    "plt.axis('equal')\n",
    "plt.show()"
   ]
  },
  {
   "cell_type": "markdown",
   "metadata": {},
   "source": [
    "### Question 2 - 4"
   ]
  },
  {
   "cell_type": "code",
   "execution_count": 458,
   "metadata": {},
   "outputs": [],
   "source": [
    "# Add the results of the highest sales channel type and the highest order priority to the \n",
    "# file MM_Rankings.txt.\n",
    "\n",
    "# Create a list with online and Offline data. \n",
    "onOffList = ['Sales Channels:',\n",
    "             'Online: 30183',\n",
    "             'Offline: 19788',\n",
    "             'We do more online sales.']\n",
    "\n",
    "# Use open() function to append new lines into the txt file\n",
    "# Use for loop to print out every lines in the list into the txt file.\n",
    "with open('DataSample/MM_Ranking.txt', \"a+\") as writer:\n",
    "    for line in onOffList:\n",
    "        writer.write(f'{line}\\n')"
   ]
  },
  {
   "cell_type": "code",
   "execution_count": 459,
   "metadata": {},
   "outputs": [],
   "source": [
    "# Create a list with Order Priority data. \n",
    "orderPriorList = ['Order Priorities:',\n",
    "                  'L: 9984',\n",
    "                  'M: 19881',\n",
    "                  'H: 15094',\n",
    "                  'C: 5012',\n",
    "                  'We do more M order priorities.']\n",
    "\n",
    "# Use open() function to append new lines into the txt file\n",
    "# Use for loop to print out every lines in the list into the txt file.\n",
    "with open('DataSample/MM_Ranking.txt', \"a+\") as writer:\n",
    "    for line in orderPriorList:\n",
    "        writer.write(f'{line}\\n')"
   ]
  },
  {
   "cell_type": "markdown",
   "metadata": {},
   "source": [
    "## Question 3"
   ]
  },
  {
   "cell_type": "markdown",
   "metadata": {},
   "source": [
    "### Question 3 - 1"
   ]
  },
  {
   "cell_type": "code",
   "execution_count": 501,
   "metadata": {},
   "outputs": [
    {
     "data": {
      "image/png": "[encoded data removed]",
      "text/plain": [
       "<Figure size 1080x504 with 1 Axes>"
      ]
     },
     "metadata": {},
     "output_type": "display_data"
    }
   ],
   "source": [
    "#Create a Boxplot using Seaborn showing the Total Profits DISTRIBUTION by Item Type.\n",
    "\n",
    "# Create a boxplot with 2 columns Item Type on x-axis and Total Profit on y-axis, take the data from MMSalesDF\n",
    "#Define graph size\n",
    "plt.figure(figsize=(15,7))\n",
    "ax = sns.boxplot(x=\"Item Type\", y=\"Total Profit\", data=mmSalesDF)"
   ]
  },
  {
   "cell_type": "markdown",
   "metadata": {},
   "source": [
    "### Question 3 - 2"
   ]
  },
  {
   "cell_type": "code",
   "execution_count": 461,
   "metadata": {},
   "outputs": [
    {
     "name": "stdout",
     "output_type": "stream",
     "text": [
      "                  Total Profit\n",
      "Item Type                     \n",
      "Baby Food       1942865748.120\n",
      "Beverages        327559249.080\n",
      "Cereal          1824726412.290\n",
      "Clothes         1520832019.680\n",
      "Cosmetics       3638407966.750\n",
      "Fruits            51010570.920\n",
      "Household       3401180998.060\n",
      "Meat            1196342404.400\n",
      "Office Supplies 2605440187.500\n",
      "Personal Care    535250525.600\n",
      "Snacks          1149715758.720\n",
      "Vegetables      1322639660.240\n"
     ]
    }
   ],
   "source": [
    "#Use Python to determine the sum of Total Profit by Item Type.\n",
    "\n",
    "# Use groupby function to group the Item Type by each items. \n",
    "# and sum() function to sum the total profit of each item types\n",
    "TotalProfitsDist = mmSalesDF.groupby('Item Type').sum()[['Total Profit']]\n",
    "print(TotalProfitsDist)"
   ]
  },
  {
   "cell_type": "markdown",
   "metadata": {},
   "source": [
    "### Question 3 - 3"
   ]
  },
  {
   "cell_type": "code",
   "execution_count": 462,
   "metadata": {},
   "outputs": [
    {
     "data": {
      "image/png": "[encoded data removed]",
      "text/plain": [
       "<Figure size 1440x720 with 1 Axes>"
      ]
     },
     "metadata": {},
     "output_type": "display_data"
    }
   ],
   "source": [
    "# Now create a chart type of your choice (Seaborn or Matplotlib) \n",
    "# showing the sums of the different Item Types.\n",
    "\n",
    "# Create 2 variables with data from the table above: \n",
    "# Sum_of_Profit holds the sum of Total Profit of each item type; \n",
    "# Item_Type holds the item type as categories\n",
    "Item_Type = ['Baby Food','Beverages','Cereal','Clothes','Cosmestics',\n",
    "        'Fruits','Household','Meat','Office Supplies',\n",
    "        'Personal Care','Snacks','Vegetables']\n",
    "Sum_of_Profit = [1942865748.120, 327559249.080, 1824726412.290, 1520832019.680,\n",
    "                3638407966.750, 51010570.920, 3401180998.060, 1196342404.400,\n",
    "                2605440187.500, 535250525.600, 1149715758.720, 1322639660.240]\n",
    "\n",
    "# Define the graph size\n",
    "plt.figure(figsize=(20,10))\n",
    "\n",
    "# Create the bar graph using matplotlib with Item Type on x-axis, Total profit on y-axis\n",
    "plt.bar(Item_Type, Sum_of_Profit)\n",
    "\n",
    "# Because the number of the total profit is too large, use yscale function to have numbers in logarithm format\n",
    "plt.yscale('log')\n",
    "\n",
    "# Create the graph name, xlabel and ylabel name\n",
    "plt.title('Total Profit by Item Types',fontsize=18)\n",
    "plt.xlabel('Item Type',fontsize=16)\n",
    "plt.ylabel('Total Profit', fontsize=16)\n",
    "plt.show()"
   ]
  },
  {
   "cell_type": "markdown",
   "metadata": {},
   "source": [
    "### Question 3 - 4"
   ]
  },
  {
   "cell_type": "code",
   "execution_count": 463,
   "metadata": {},
   "outputs": [
    {
     "data": {
      "text/html": [
       "<div>\n",
       "<style scoped>\n",
       "    .dataframe tbody tr th:only-of-type {\n",
       "        vertical-align: middle;\n",
       "    }\n",
       "\n",
       "    .dataframe tbody tr th {\n",
       "        vertical-align: top;\n",
       "    }\n",
       "\n",
       "    .dataframe thead th {\n",
       "        text-align: right;\n",
       "    }\n",
       "</style>\n",
       "<table border=\"1\" class=\"dataframe\">\n",
       "  <thead>\n",
       "    <tr style=\"text-align: right;\">\n",
       "      <th></th>\n",
       "      <th>Sum of Profit</th>\n",
       "    </tr>\n",
       "  </thead>\n",
       "  <tbody>\n",
       "    <tr>\n",
       "      <th>Cosmestics</th>\n",
       "      <td>3638407966.750</td>\n",
       "    </tr>\n",
       "    <tr>\n",
       "      <th>Household</th>\n",
       "      <td>3401180998.060</td>\n",
       "    </tr>\n",
       "    <tr>\n",
       "      <th>Office Supplies</th>\n",
       "      <td>2605440187.500</td>\n",
       "    </tr>\n",
       "  </tbody>\n",
       "</table>\n",
       "</div>"
      ],
      "text/plain": [
       "                 Sum of Profit\n",
       "Cosmestics      3638407966.750\n",
       "Household       3401180998.060\n",
       "Office Supplies 2605440187.500"
      ]
     },
     "execution_count": 463,
     "metadata": {},
     "output_type": "execute_result"
    }
   ],
   "source": [
    "# Rank the top 3 item types we did the most sales (brought in most profit) in to the least sales. \n",
    "# List the item types and the amount sold.\n",
    "\n",
    "# Create a dataframe with sum_of_profit columnn data, index would be the Item Type column, and the column is Sum of Profit\n",
    "totalProfitSort = pd.DataFrame(Sum_of_Profit, index = Item_Type, columns = ['Sum of Profit'])\n",
    "totalProfitSort\n",
    "\n",
    "# Use sort_values() function to sort the result data in descending order\n",
    "# Get only 3 top value by using head() function\n",
    "totalProfitSort.sort_values(by=['Sum of Profit'], ascending = False).head(3)"
   ]
  },
  {
   "cell_type": "markdown",
   "metadata": {},
   "source": [
    "### Question 3 - 5"
   ]
  },
  {
   "cell_type": "code",
   "execution_count": 464,
   "metadata": {},
   "outputs": [],
   "source": [
    "# Add the results of the top 3 item types to the file MM_Rankings.txt.\n",
    "\n",
    "# Create a list with Top 3 Item Type values above. \n",
    "top3Items = ['Highest Selling Items:',\n",
    "             'Cosmestics: 3638407966.750',\n",
    "             'Household: 3401180998.060',\n",
    "             'Office Supplies: 2605440187.500',\n",
    "             'We sold Cosmetics the most.']\n",
    "\n",
    "# Use open() function to append new lines into the txt file\n",
    "# Use for loop to print out every lines in the list into the txt file.\n",
    "with open('DataSample/MM_Ranking.txt', \"a+\") as writer:\n",
    "    for line in top3Items:\n",
    "        writer.write(f'{line}\\n')"
   ]
  },
  {
   "cell_type": "markdown",
   "metadata": {},
   "source": [
    "### Question 3 - 6"
   ]
  },
  {
   "cell_type": "markdown",
   "metadata": {},
   "source": [
    "#### Provide a markdown section discussing the results of the boxplots. Discuss what is being shown in the boxplots amd do some business analytics around what sort of use this sort of chart might help in making decisions. Are there any unexpected results? Discuss them."
   ]
  },
  {
   "cell_type": "markdown",
   "metadata": {},
   "source": [
    "Using the graph, we can compare the range and distribution of the Total Profit for all of the Item Type. These boxplots were created on same number of sample size (N). Most of the boxplots are not skewed (normally contributed). There are also no outliers, but the median(center of the boxplot) of each item type varies differently on different scale. These boxplots of item types spread differently too, some have a large spreading area, but some have smaller. \n",
    "\n",
    "Go into details:\n",
    "- Some boxplots are comparatively short: meat, fruit, personal care and beverages, vegetable, snack and clothes. Which means the total profit of those types are the least, they are not the most important type in bringing back profit for MM.\n",
    "- Some boxplots are comparatively tall: householf, cosmetic and office supply. Which means these 3 types are the most profitable, which are important in the MM Sales overall.\n",
    "- The highest boxplot is cosmetic. It brings back the most profit\n",
    "- The lowest boxplot is fruit. It brings back the lease profit.\n",
    "\n",
    "In short, the profits of each items are not distributed evenly, which can be considered as hugely different.\n",
    "In order to bring back more profit, I would suggest balance out the profit between item types. Push the number of sales by supporting more on some least profitable item types.\n",
    "No outliers mean no unexpected event had happened, the sales were recorded in plan. Therefore, if we can create a better plan, the profit would increase as well."
   ]
  },
  {
   "cell_type": "markdown",
   "metadata": {},
   "source": [
    "## Question 4"
   ]
  },
  {
   "cell_type": "markdown",
   "metadata": {},
   "source": [
    "### Question 4 - 1"
   ]
  },
  {
   "cell_type": "code",
   "execution_count": 521,
   "metadata": {},
   "outputs": [],
   "source": [
    "#Produce the data above for the sum of the requested columns.\n",
    "\n",
    "# Use pandas sum() function on dataframe to find the sum of each columns\n",
    "# Set each column sum to different variables\n",
    "TotalUnitsSold = mmSalesDF['Units Sold'].sum()\n",
    "TotalUnitsCost = mmSalesDF['Unit Cost'].sum()\n",
    "TotalRevenue = mmSalesDF['Total Revenue'].sum()\n",
    "TotalCost = mmSalesDF['Total Cost'].sum()\n",
    "TotalProfit = mmSalesDF['Total Profit'].sum()"
   ]
  },
  {
   "cell_type": "markdown",
   "metadata": {},
   "source": [
    "### Question 4 - 2"
   ]
  },
  {
   "cell_type": "code",
   "execution_count": 522,
   "metadata": {},
   "outputs": [],
   "source": [
    "#Produce the data above for the average of the requested columns.\n",
    "\n",
    "# Use pandas mean() function on dataframe to find the average of each columns\n",
    "# Set each column average to different variables\n",
    "AvgUnitsSold = mmSalesDF['Units Sold'].mean()\n",
    "AvgUnitsCost = mmSalesDF['Unit Cost'].mean()\n",
    "AvgTotalRevenue = mmSalesDF['Total Revenue'].mean()\n",
    "AvgTotalCost = mmSalesDF['Total Cost'].mean()\n",
    "AvgTotalProfit = mmSalesDF['Total Profit'].mean()"
   ]
  },
  {
   "cell_type": "markdown",
   "metadata": {},
   "source": [
    "### Question 4 - 3"
   ]
  },
  {
   "cell_type": "code",
   "execution_count": 523,
   "metadata": {},
   "outputs": [],
   "source": [
    "#Produce the data above for the maximum of the requested columns. \n",
    "\n",
    "# Use pandas max() function on dataframe to find the maximum of each columns\n",
    "# Set each column maximum to different variables\n",
    "MaxUnitsSold = mmSalesDF['Units Sold'].max()\n",
    "MaxUnitsCost = mmSalesDF['Unit Cost'].max()\n",
    "MaxTotalRevenue = mmSalesDF['Total Revenue'].max()\n",
    "MaxTotalCost = mmSalesDF['Total Cost'].max()\n",
    "MaxTotalProfit = mmSalesDF['Total Profit'].max()"
   ]
  },
  {
   "cell_type": "markdown",
   "metadata": {},
   "source": [
    "### Question 4 - 4"
   ]
  },
  {
   "cell_type": "code",
   "execution_count": 524,
   "metadata": {},
   "outputs": [
    {
     "data": {
      "image/png": "[encoded data removed]",
      "text/plain": [
       "<Figure size 432x288 with 1 Axes>"
      ]
     },
     "metadata": {},
     "output_type": "display_data"
    }
   ],
   "source": [
    "#Create two line plots using Seaborn or Matplotlib for the sums\n",
    "\n",
    "# Create a pandas dataframe with variables above, index is the column names\n",
    "df = pd.DataFrame({\n",
    "   'Total': [TotalUnitsSold, TotalUnitsCost, TotalRevenue, TotalCost, TotalProfit],\n",
    "   }, index=['Unit Sold', 'Unit Cost', 'Revenue', 'Cost', 'Profit'])\n",
    "\n",
    "# Create the line plot using matplotlib\n",
    "lines = df.plot.line()\n",
    "\n",
    "# Because the number of the total profit is too large, use yscale function to have numbers in logarithm format\n",
    "plt.yscale('log')"
   ]
  },
  {
   "cell_type": "code",
   "execution_count": 525,
   "metadata": {},
   "outputs": [
    {
     "data": {
      "image/png": "[encoded data removed]",
      "text/plain": [
       "<Figure size 432x288 with 1 Axes>"
      ]
     },
     "metadata": {},
     "output_type": "display_data"
    }
   ],
   "source": [
    "# Create two line plots using Seaborn or Matplotlib,one for both the averages and the maximums.\n",
    "\n",
    "# Create a pandas dataframe with variables above, index is the column names, this one includes both average and maximum data\n",
    "df1 = pd.DataFrame({\n",
    "    'Average': [AvgUnitsSold, AvgUnitsCost, AvgTotalRevenue, AvgTotalCost, AvgTotalProfit],\n",
    "    'Maximum': [MaxUnitsSold, MaxUnitsCost, MaxTotalRevenue, MaxTotalCost, MaxTotalProfit],\n",
    "   }, index=['Unit Sold', 'Unit Cost', 'Revenue', 'Cost', 'Profit'])\n",
    "\n",
    "# Create the line plot using matplotlib\n",
    "lines = df1.plot.line()\n",
    "\n",
    "# Set background to black because the yellow line is hard to see in white background\n",
    "lines.set_facecolor('xkcd:black')\n",
    "\n",
    "# Because the number of the total profit is too large, use yscale function to have numbers in logarithm format\n",
    "plt.yscale('log')"
   ]
  },
  {
   "cell_type": "markdown",
   "metadata": {},
   "source": [
    "### Question 4 - 5"
   ]
  },
  {
   "cell_type": "code",
   "execution_count": 567,
   "metadata": {},
   "outputs": [],
   "source": [
    "#Now you will save these calculations below to a text file called MM_Calc.txt.\n",
    "\n",
    "# Create a new txt file with open() function, write blank to the file, having newline after every line\n",
    "with open('DataSample/MM_Calc.txt', \"w+\", newline='') as writer:\n",
    "    writer.write('')"
   ]
  },
  {
   "cell_type": "code",
   "execution_count": 568,
   "metadata": {},
   "outputs": [],
   "source": [
    "#Create a list of sum variables, cast the variable to string to be the same with the first part\n",
    "# When print out to the txt file, it's also be on the same line\n",
    "sumsList = ['Sums:', \n",
    "            'Units sold: ' + str(TotalUnitsSold), \n",
    "            'Unit cost: ' + str(TotalUnitsCost), \n",
    "            'Total revenue: ' + str(TotalRevenue), \n",
    "            'Total cost: ' + str(TotalCost),\n",
    "            'Total profit: ' + str(TotalProfit)]\n",
    "\n",
    "# Use open() function to append new lines into the txt file\n",
    "# Use for loop to print out every lines in the list into the txt file.\n",
    "with open('DataSample/MM_Calc.txt', \"a+\") as writer:\n",
    "    for line in sumsList:\n",
    "        writer.write(f'{line}\\n')"
   ]
  },
  {
   "cell_type": "code",
   "execution_count": 569,
   "metadata": {},
   "outputs": [],
   "source": [
    "#Create a list of average variables, cast the variable to string to be the same with the first part\n",
    "# When print out to the txt file, it's also be on the same line\n",
    "averagesList = ['Averages:',\n",
    "                'Units sold: ' + str(AvgUnitsSold), \n",
    "                'Unit cost: ' + str(AvgUnitsCost), \n",
    "                'Total revenue: ' + str(AvgTotalRevenue), \n",
    "                'Total cost: ' + str(AvgTotalCost),\n",
    "                'Total profit: ' + str(AvgTotalProfit)]\n",
    "\n",
    "# Use open() function to append new lines into the txt file\n",
    "# Use for loop to print out every lines in the list into the txt file.\n",
    "with open('DataSample/MM_Calc.txt', \"a+\") as writer:\n",
    "    for line in averagesList:\n",
    "        writer.write(f'{line}\\n')"
   ]
  },
  {
   "cell_type": "code",
   "execution_count": 570,
   "metadata": {},
   "outputs": [],
   "source": [
    "#Create a list of maximum variables, cast the variable to string to be the same with the first part\n",
    "# When print out to the txt file, it's also be on the same line\n",
    "maxList = ['Maximums:',\n",
    "           'Units sold: ' + str(MaxUnitsSold), \n",
    "           'Unit cost: ' + str(MaxUnitsCost), \n",
    "           'Total revenue: ' + str(MaxTotalRevenue), \n",
    "           'Total cost: ' + str(MaxTotalCost),\n",
    "           'Total profit: ' + str(MaxTotalProfit)]\n",
    "\n",
    "# Use open() function to append new lines into the txt file\n",
    "# Use for loop to print out every lines in the list into the txt file.\n",
    "with open('DataSample/MM_Calc.txt', \"a+\") as writer:\n",
    "    for line in maxList:\n",
    "        writer.write(f'{line}\\n')"
   ]
  },
  {
   "cell_type": "markdown",
   "metadata": {},
   "source": [
    "# Part 3"
   ]
  },
  {
   "cell_type": "code",
   "execution_count": 590,
   "metadata": {},
   "outputs": [],
   "source": [
    "# Please return this as a dictionary of lists with the keys of the dictionary being the name \n",
    "# of each Region and the list attached to that being all the countries we sell to for that region.\n",
    "\n",
    "# Use groupby() function to group different regions in the region column, also get countries in each region\n",
    "# .unique() to remove any duplicates might have in each region\n",
    "# Apply the list above to the dictionary \n",
    "regionByCountry = mmSalesDF.groupby(['Region'])['Country'].unique().apply(list).to_dict()"
   ]
  },
  {
   "cell_type": "code",
   "execution_count": 591,
   "metadata": {},
   "outputs": [],
   "source": [
    "#Write this out to a CSV file called Countries_By_Region.csv\n",
    "\n",
    "# Create a dataframe from the dictionary \"regionByCountry\" above\n",
    "# Oriented it by index and then transpose the x to y and likewise\n",
    "regionDF = pd.DataFrame.from_dict(regionByCountry, orient='index').transpose()\n",
    "\n",
    "# Put the dataframe into csv by .to_csv() function, remove the index(0,1,2,3,etc) by using index=False\n",
    "regionDF.to_csv(\"DataSample/Countries_By_Region.csv\", index=False)"
   ]
  },
  {
   "cell_type": "code",
   "execution_count": null,
   "metadata": {},
   "outputs": [],
   "source": []
  }
 ],
 "metadata": {
  "kernelspec": {
   "display_name": "Python 3",
   "language": "python",
   "name": "python3"
  },
  "language_info": {
   "codemirror_mode": {
    "name": "ipython",
    "version": 3
   },
   "file_extension": ".py",
   "mimetype": "text/x-python",
   "name": "python",
   "nbconvert_exporter": "python",
   "pygments_lexer": "ipython3",
   "version": "3.8.5"
  }
 },
 "nbformat": 4,
 "nbformat_minor": 4
}
